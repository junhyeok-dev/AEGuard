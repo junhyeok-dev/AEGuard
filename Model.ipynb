{
 "cells": [
  {
   "cell_type": "code",
   "execution_count": 1,
   "metadata": {},
   "outputs": [],
   "source": [
    "import pandas as pd\n",
    "import keras\n",
    "from sklearn.model_selection import train_test_split\n",
    "from sklearn.preprocessing import StandardScaler\n",
    "from sklearn.preprocessing import normalize\n",
    "from joblib import dump\n",
    "import seaborn as sns"
   ]
  },
  {
   "cell_type": "code",
   "execution_count": 2,
   "metadata": {
    "pycharm": {
     "name": "#%%\n"
    }
   },
   "outputs": [
    {
     "data": {
      "text/plain": [
       "<AxesSubplot:xlabel='edge_diff'>"
      ]
     },
     "execution_count": 2,
     "metadata": {},
     "output_type": "execute_result"
    },
    {
     "data": {
      "image/png": "[encoded data removed]",
      "text/plain": [
       "<Figure size 432x288 with 1 Axes>"
      ]
     },
     "metadata": {
      "needs_background": "light"
     },
     "output_type": "display_data"
    }
   ],
   "source": [
    "dat = pd.read_csv(\"analysis_result.csv\")\n",
    "#dat.drop(['b', 'g', 'r', 'edge_entropy'], axis=1, inplace=True)\n",
    "dat.head(1)\n",
    "#dat = dat[dat.edge_diff > 0]\n",
    "sns.boxplot(x=dat['edge_diff'])"
   ]
  },
  {
   "cell_type": "code",
   "execution_count": 3,
   "metadata": {
    "pycharm": {
     "name": "#%%\n"
    }
   },
   "outputs": [
    {
     "data": {
      "text/plain": [
       "7979"
      ]
     },
     "execution_count": 3,
     "metadata": {},
     "output_type": "execute_result"
    }
   ],
   "source": [
    "len(dat)"
   ]
  },
  {
   "cell_type": "code",
   "execution_count": 4,
   "metadata": {
    "pycharm": {
     "name": "#%%\n"
    }
   },
   "outputs": [
    {
     "data": {
      "text/plain": [
       "array([0, 1])"
      ]
     },
     "execution_count": 4,
     "metadata": {},
     "output_type": "execute_result"
    }
   ],
   "source": [
    "dat['adv'].unique()"
   ]
  },
  {
   "cell_type": "code",
   "execution_count": 5,
   "metadata": {
    "pycharm": {
     "name": "#%%\n"
    }
   },
   "outputs": [],
   "source": [
    "x = dat.iloc[:, :-1].values\n",
    "x = normalize(x, norm='l2')\n",
    "y = dat.iloc[:,-1].values"
   ]
  },
  {
   "cell_type": "code",
   "execution_count": 6,
   "metadata": {
    "pycharm": {
     "name": "#%%\n"
    }
   },
   "outputs": [],
   "source": [
    "x_train, x_test, y_train, y_test = train_test_split(x, y, test_size=0.3, random_state=1)\n",
    "#y_train = y_train.reshape([len(y_train), 1])\n",
    "#y_test = y_test.reshape([len(y_test), 1])"
   ]
  },
  {
   "cell_type": "code",
   "execution_count": 7,
   "metadata": {
    "pycharm": {
     "name": "#%%\n"
    }
   },
   "outputs": [
    {
     "data": {
      "text/plain": [
       "['Scaler.bin']"
      ]
     },
     "execution_count": 7,
     "metadata": {},
     "output_type": "execute_result"
    }
   ],
   "source": [
    "#Remove scaler\n",
    "\n",
    "sc = StandardScaler()\n",
    "#x_train = sc.fit_transform(x_train)\n",
    "#x_test = sc.transform(x_test)\n",
    "dump(sc, 'Scaler.bin', compress=True)"
   ]
  },
  {
   "cell_type": "code",
   "execution_count": 8,
   "metadata": {
    "pycharm": {
     "name": "#%%\n"
    }
   },
   "outputs": [],
   "source": [
    "from keras.models import Sequential\n",
    "from keras.layers import Dense, Dropout"
   ]
  },
  {
   "cell_type": "code",
   "execution_count": 9,
   "metadata": {
    "pycharm": {
     "name": "#%%\n"
    }
   },
   "outputs": [],
   "source": [
    "keras.initializers.RandomNormal(mean=0.0, stddev=0.05, seed=None)\n",
    "keras.initializers.RandomUniform(minval=-0.05, maxval=0.05, seed=None)\n",
    "\n",
    "clf = Sequential([\n",
    "    Dense(512, kernel_initializer='uniform', input_dim=8, activation='elu'),\n",
    "    Dense(1024, kernel_initializer='uniform', activation='elu'),\n",
    "    Dropout(0.1),\n",
    "    Dense(1024, kernel_initializer='uniform', activation='elu'),\n",
    "    Dense(1, kernel_initializer='uniform', activation='sigmoid')\n",
    "])"
   ]
  },
  {
   "cell_type": "code",
   "execution_count": 10,
   "metadata": {
    "pycharm": {
     "name": "#%%\n"
    }
   },
   "outputs": [
    {
     "name": "stdout",
     "output_type": "stream",
     "text": [
      "Model: \"sequential\"\n",
      "_________________________________________________________________\n",
      "Layer (type)                 Output Shape              Param #   \n",
      "=================================================================\n",
      "dense (Dense)                (None, 512)               4608      \n",
      "_________________________________________________________________\n",
      "dense_1 (Dense)              (None, 1024)              525312    \n",
      "_________________________________________________________________\n",
      "dropout (Dropout)            (None, 1024)              0         \n",
      "_________________________________________________________________\n",
      "dense_2 (Dense)              (None, 1024)              1049600   \n",
      "_________________________________________________________________\n",
      "dense_3 (Dense)              (None, 1)                 1025      \n",
      "=================================================================\n",
      "Total params: 1,580,545\n",
      "Trainable params: 1,580,545\n",
      "Non-trainable params: 0\n",
      "_________________________________________________________________\n"
     ]
    }
   ],
   "source": [
    "clf.summary()"
   ]
  },
  {
   "cell_type": "code",
   "execution_count": 11,
   "metadata": {
    "pycharm": {
     "name": "#%%\n"
    }
   },
   "outputs": [],
   "source": [
    "clf.compile(optimizer='sgd', loss='binary_crossentropy', metrics=['accuracy'])"
   ]
  },
  {
   "cell_type": "code",
   "execution_count": 12,
   "metadata": {
    "pycharm": {
     "name": "#%%\n"
    }
   },
   "outputs": [
    {
     "name": "stdout",
     "output_type": "stream",
     "text": [
      "Epoch 1/20\n",
      "175/175 [==============================] - 2s 8ms/step - loss: 0.6933 - accuracy: 0.5003\n",
      "Epoch 2/20\n",
      "175/175 [==============================] - 1s 8ms/step - loss: 0.6933 - accuracy: 0.4887\n",
      "Epoch 3/20\n",
      "175/175 [==============================] - 2s 9ms/step - loss: 0.6934 - accuracy: 0.4879\n",
      "Epoch 4/20\n",
      "175/175 [==============================] - 2s 9ms/step - loss: 0.6931 - accuracy: 0.4980\n",
      "Epoch 5/20\n",
      "175/175 [==============================] - 1s 8ms/step - loss: 0.6932 - accuracy: 0.4932\n",
      "Epoch 6/20\n",
      "175/175 [==============================] - 1s 8ms/step - loss: 0.6930 - accuracy: 0.5080\n",
      "Epoch 7/20\n",
      "175/175 [==============================] - 1s 7ms/step - loss: 0.6929 - accuracy: 0.5068\n",
      "Epoch 8/20\n",
      "175/175 [==============================] - 1s 7ms/step - loss: 0.6929 - accuracy: 0.5052\n",
      "Epoch 9/20\n",
      "175/175 [==============================] - 1s 8ms/step - loss: 0.6929 - accuracy: 0.5179\n",
      "Epoch 10/20\n",
      "175/175 [==============================] - 1s 8ms/step - loss: 0.6928 - accuracy: 0.5183\n",
      "Epoch 11/20\n",
      "175/175 [==============================] - 1s 8ms/step - loss: 0.6927 - accuracy: 0.5227\n",
      "Epoch 12/20\n",
      "175/175 [==============================] - 1s 8ms/step - loss: 0.6928 - accuracy: 0.5076\n",
      "Epoch 13/20\n",
      "175/175 [==============================] - 1s 8ms/step - loss: 0.6928 - accuracy: 0.5325\n",
      "Epoch 14/20\n",
      "175/175 [==============================] - 1s 7ms/step - loss: 0.6927 - accuracy: 0.5194\n",
      "Epoch 15/20\n",
      "175/175 [==============================] - 1s 8ms/step - loss: 0.6927 - accuracy: 0.5200\n",
      "Epoch 16/20\n",
      "175/175 [==============================] - 1s 7ms/step - loss: 0.6926 - accuracy: 0.5214\n",
      "Epoch 17/20\n",
      "175/175 [==============================] - 1s 8ms/step - loss: 0.6924 - accuracy: 0.5110\n",
      "Epoch 18/20\n",
      "175/175 [==============================] - 1s 7ms/step - loss: 0.6925 - accuracy: 0.5232\n",
      "Epoch 19/20\n",
      "175/175 [==============================] - 2s 9ms/step - loss: 0.6924 - accuracy: 0.5352\n",
      "Epoch 20/20\n",
      "175/175 [==============================] - 2s 9ms/step - loss: 0.6925 - accuracy: 0.5173\n"
     ]
    },
    {
     "data": {
      "text/plain": [
       "<tensorflow.python.keras.callbacks.History at 0x7f9079c770d0>"
      ]
     },
     "execution_count": 12,
     "metadata": {},
     "output_type": "execute_result"
    }
   ],
   "source": [
    "clf.fit(x_train, y_train, batch_size=32, epochs=20)"
   ]
  },
  {
   "cell_type": "code",
   "execution_count": 13,
   "metadata": {
    "pycharm": {
     "name": "#%%\n"
    }
   },
   "outputs": [
    {
     "name": "stdout",
     "output_type": "stream",
     "text": [
      "['loss', 'accuracy']\n",
      "[0.6922417879104614, 0.5208855271339417]\n"
     ]
    }
   ],
   "source": [
    "score = clf.evaluate(x_test, y_test, verbose=0)\n",
    "\n",
    "print(clf.metrics_names)\n",
    "print(score)"
   ]
  },
  {
   "cell_type": "code",
   "execution_count": 14,
   "metadata": {
    "pycharm": {
     "name": "#%%\n"
    }
   },
   "outputs": [],
   "source": [
    "from keras.models import load_model\n",
    "clf.save('AEGuard.keras')"
   ]
  },
  {
   "cell_type": "code",
   "execution_count": 15,
   "metadata": {
    "pycharm": {
     "name": "#%%\n"
    }
   },
   "outputs": [
    {
     "name": "stdout",
     "output_type": "stream",
     "text": [
      "[[9.5640989e-06]\n",
      " [2.1032472e-06]]\n",
      "Predicted:  9.564099e-06 - adversarial(> 0.5)\n",
      "Predicted:  2.1032472e-06 - original(< 0.5)\n"
     ]
    }
   ],
   "source": [
    "x_predict = [\n",
    "    [7.3378496842073835,2005.3647338785904,4.504145408163265,32.902195839142415,33.678372772158376,33.41943138869921,75.08849557522123,0.2649477141230245],\n",
    "    [7.347049941119418,2043.8005363495167,3.0113998724489797,32.896276164881336,33.6823649646088,33.42135887050986,31.436135009927202,0.19496323402345217]\n",
    "    #[7.109481332039627,1181.620735253842,4.512117346938775,26.801098135999048,37.14988650707845,36.0490153569225,88.47173144876325,0.2652988602177302],\n",
    "    #[7.145613536455951,1342.1639741820782,3.559470663265306,26.234164188403792,37.466724054725475,36.29911175687073,58.006718924972,0.2217159457752795],\n",
    "]\n",
    "#x_predict = sc.transform(x_predict)\n",
    "y_predict = clf.predict(x_predict)\n",
    "print(y_predict)\n",
    "\n",
    "print(\"Predicted: \", y_predict[0][0], \"- adversarial(> 0.5)\")\n",
    "print(\"Predicted: \", y_predict[1][0], \"- original(< 0.5)\")"
   ]
  }
 ],
 "metadata": {
  "kernelspec": {
   "display_name": "Python 3",
   "language": "python",
   "name": "python3"
  },
  "language_info": {
   "codemirror_mode": {
    "name": "ipython",
    "version": 3
   },
   "file_extension": ".py",
   "mimetype": "text/x-python",
   "name": "python",
   "nbconvert_exporter": "python",
   "pygments_lexer": "ipython3",
   "version": "3.8.7"
  }
 },
 "nbformat": 4,
 "nbformat_minor": 1
}